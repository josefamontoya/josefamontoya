{
 "cells": [
  {
   "cell_type": "markdown",
   "metadata": {},
   "source": [
    "# process_csv_for_pysam – Notebook\n"
   ]
  },
  {
   "cell_type": "code",
   "execution_count": 1,
   "metadata": {},
   "outputs": [
    {
     "name": "stdout",
     "output_type": "stream",
     "text": [
      "Archivo procesado guardado en: /home/josefa_montoya/Josefamontoya/josefamontoya/PRUEBA_2/salvador_pysam.csv\n",
      "Archivo procesado guardado en: /home/josefa_montoya/Josefamontoya/josefamontoya/PRUEBA_2/calama_pysam.csv\n",
      "Archivo procesado guardado en: /home/josefa_montoya/Josefamontoya/josefamontoya/PRUEBA_2/Vallenar_pysam.csv\n"
     ]
    }
   ],
   "source": [
    "import pandas as pd\n",
    "import os\n",
    "\n",
    "def process_csv_for_pysam(input_file, output_file, lat, lon):\n",
    "    \"\"\"\n",
    "    Procesa un archivo CSV para que sea compatible con PySAM en formato TMY3 estándar.\n",
    "    \n",
    "    Args:\n",
    "        input_file (str): Ruta al archivo CSV de entrada\n",
    "        output_file (str): Ruta donde guardar el archivo procesado\n",
    "        lat (float): Latitud del sitio\n",
    "        lon (float): Longitud del sitio\n",
    "    \"\"\"\n",
    "    # Leer el archivo CSV original\n",
    "    df = pd.read_csv(input_file)\n",
    "    \n",
    "    # Seleccionar y renombrar columnas estándar TMY3\n",
    "    columnas_tmy3 = {\n",
    "        'Year': 'Year',\n",
    "        'Month': 'Month',\n",
    "        'Day': 'Day',\n",
    "        'Hour': 'Hour',\n",
    "        'Minute': 'Minute',\n",
    "        'GHI': 'GHI',\n",
    "        'DNI': 'DNI',\n",
    "        'DHI': 'DHI',\n",
    "        'Tdry': 'DryBulb',\n",
    "        'Tdew': 'DewPoint',\n",
    "        'RH': 'RelativeHumidity',\n",
    "        'Pres': 'Pressure',\n",
    "        'Wspd': 'WindSpeed',\n",
    "        'Wdir': 'WindDirection'\n",
    "    }\n",
    "    # Filtrar y renombrar\n",
    "    df_tmy3 = df[list(columnas_tmy3.keys())].rename(columns=columnas_tmy3)\n",
    "    \n",
    "    # Crear el encabezado TMY3 estándar\n",
    "    site_name = os.path.basename(input_file).replace('_processed.csv', '')\n",
    "    header = f\"\"\"TMY3 data for {site_name}\\n{site_name}, {lat}, {lon}, -4, 0, TMY3, W/m2, C, %, m/s, deg, mm\\n\"\"\"\n",
    "    \n",
    "    # Guardar el archivo con el nuevo formato\n",
    "    with open(output_file, 'w') as f:\n",
    "        f.write(header)\n",
    "        df_tmy3.to_csv(f, index=False)\n",
    "    \n",
    "    print(f\"Archivo procesado guardado en: {output_file}\")\n",
    "\n",
    "def main():\n",
    "    # Directorio base\n",
    "    base_dir = '/home/josefa_montoya/Josefamontoya/josefamontoya/PRUEBA_2'\n",
    "    \n",
    "    # Definir las coordenadas para cada sitio\n",
    "    sites = {\n",
    "        'salvador': (-26.25, -69.05),\n",
    "        'calama': (-22.47, -68.93),\n",
    "        'Vallenar': (-28.57, -70.76)\n",
    "    }\n",
    "    \n",
    "    # Procesar cada archivo\n",
    "    for site_name, (lat, lon) in sites.items():\n",
    "        input_file = os.path.join(base_dir, f'{site_name}_processed.csv')\n",
    "        output_file = os.path.join(base_dir, f'{site_name}_pysam.csv')\n",
    "        process_csv_for_pysam(input_file, output_file, lat, lon)\n",
    "\n",
    "if __name__ == \"__main__\":\n",
    "    main() "
   ]
  }
 ],
 "metadata": {
  "kernelspec": {
   "display_name": "Python 3",
   "language": "python",
   "name": "python3"
  },
  "language_info": {
   "file_extension": ".py",
   "name": "python"
  }
 },
 "nbformat": 4,
 "nbformat_minor": 2
}
